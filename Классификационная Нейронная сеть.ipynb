{
 "cells": [
  {
   "cell_type": "code",
   "execution_count": 12,
   "metadata": {},
   "outputs": [],
   "source": [
    "import torch\n",
    "import torchvision\n",
    "from torch.autograd import Variable\n",
    "import torchvision.transforms as transforms"
   ]
  },
  {
   "cell_type": "code",
   "execution_count": 13,
   "metadata": {},
   "outputs": [],
   "source": [
    "transform = transforms.Compose(\n",
    "    \n",
    "[\n",
    "    transforms.ToTensor(),\n",
    "    transforms.Normalize((0.5, 0.5, 0.5), (0.5, 0.5, 0.5))\n",
    "]\n",
    "\n",
    ")"
   ]
  },
  {
   "cell_type": "code",
   "execution_count": 14,
   "metadata": {},
   "outputs": [
    {
     "name": "stdout",
     "output_type": "stream",
     "text": [
      "Files already downloaded and verified\n",
      "Files already downloaded and verified\n"
     ]
    }
   ],
   "source": [
    "trainset = torchvision.datasets.CIFAR10(root='./data', \n",
    "                                        train=True,download=True, transform=transform)\n",
    "train_loader = torch.utils.data.DataLoader(trainset, batch_size=4,\n",
    "                                           shuffle=True, num_workers=0, pin_memory=False)\n",
    "\n",
    "testset = torchvision.datasets.CIFAR10(root='./data', train=False, \n",
    "                                       download=True, transform=transform)\n",
    "validation_loader = torch.utils.data.DataLoader(testset, batch_size=4,\n",
    "                                                shuffle=False, num_workers=0, pin_memory=False)"
   ]
  },
  {
   "cell_type": "code",
   "execution_count": 15,
   "metadata": {},
   "outputs": [
    {
     "data": {
      "text/plain": [
       "<torch.utils.data.dataloader.DataLoader at 0x20c50cfa2c8>"
      ]
     },
     "execution_count": 15,
     "metadata": {},
     "output_type": "execute_result"
    }
   ],
   "source": [
    "train_loader"
   ]
  },
  {
   "cell_type": "code",
   "execution_count": 16,
   "metadata": {},
   "outputs": [],
   "source": [
    "IMAGE_WIDTH = 32\n",
    "IMAGE_HEIGHT = 32\n",
    "COLOR_CHANNELS = 3\n",
    "EPOCHS = 50\n",
    "LEARNING_RATE = 0.001\n",
    "BATCH_SIZE = 32\n",
    "BATCH_IMAGE_COUNT = 10000\n",
    "CLASSES = ['plane', 'car', 'bird', 'cat', 'deer', 'dog', 'frog', 'horse', 'ship', 'truck']\n",
    "N_CLASSES = len(CLASSES)\n",
    "PLOT = False"
   ]
  },
  {
   "cell_type": "code",
   "execution_count": 17,
   "metadata": {},
   "outputs": [
    {
     "name": "stdout",
     "output_type": "stream",
     "text": [
      "  dog plane horse plane\n"
     ]
    },
    {
     "data": {
      "image/png": "[encoded data removed]",
      "text/plain": [
       "<Figure size 432x288 with 1 Axes>"
      ]
     },
     "metadata": {
      "needs_background": "light"
     },
     "output_type": "display_data"
    }
   ],
   "source": [
    "import matplotlib.pyplot as plt\n",
    "import numpy as np\n",
    "\n",
    "# Функция, которая показывает изображения\n",
    "def imshow(img):\n",
    "    img = img / 2 + 0.5     # деномрировка\n",
    "    npimg = img.numpy()\n",
    "    plt.imshow(np.transpose(npimg, (1, 2, 0)))\n",
    "\n",
    "\n",
    "# достаем случайные картинки из обучающей выборки\n",
    "dataiter = iter(train_loader)\n",
    "images, labels = dataiter.next()\n",
    "\n",
    "# вызываем функцию, реализующую демонстрацию изображений, что мы можем видеть на них?\n",
    "imshow(torchvision.utils.make_grid(images))\n",
    "# выведем метки классов отрисованных изображений\n",
    "print(' '.join('%5s' % CLASSES[labels[j]] for j in range(4)))"
   ]
  },
  {
   "cell_type": "code",
   "execution_count": 18,
   "metadata": {},
   "outputs": [],
   "source": [
    "class Net(torch.nn.Module):\n",
    "    def __init__(self, n_hidden_nodes, n_hidden_layers):\n",
    "        super(SecondNet, self).__init__()\n",
    "        # Определяем слои\n",
    "        self.fc1 = torch.nn.Linear(IMAGE_WIDTH * IMAGE_WIDTH * COLOR_CHANNELS,\n",
    "                                   n_hidden_nodes)\n",
    "        self.dropout1 = torch.nn.Dropout(0.2)  \n",
    "        self.fc2 = torch.nn.Linear(n_hidden_nodes, n_hidden_nodes)\n",
    "        self.dropout2 = torch.nn.Dropout(0.2)\n",
    "        self.out = torch.nn.Linear(n_hidden_nodes, N_CLASSES)\n",
    "\n",
    "    def forward(self, x):\n",
    "        x = x.view(-1, IMAGE_WIDTH * IMAGE_WIDTH * COLOR_CHANNELS)\n",
    "        LRelu = torch.nn.LeakyReLU()\n",
    "        x = LRelu(self.fc1(x))\n",
    "        x = self.dropout1(x)\n",
    "        LRelu = torch.nn.LeakyReLU()\n",
    "        x = LRelu(self.fc2(x))\n",
    "        x = self.dropout2(x)\n",
    "        return torch.nn.functional.log_softmax(self.out(x))"
   ]
  },
  {
   "cell_type": "code",
   "execution_count": 19,
   "metadata": {},
   "outputs": [],
   "source": [
    "def train(epoch, model, train_loader, optimizer, log_interval=100):\n",
    "    model.train()\n",
    "    correct = 0\n",
    "    for batch_idx, (data, target) in enumerate(train_loader):\n",
    "        data, target = Variable(data), Variable(target)\n",
    "        optimizer.zero_grad()\n",
    "        output = model(data)\n",
    "\n",
    "        pred = output.data.max(1)[1] # get the index of the max log-probability\n",
    "        correct += pred.eq(target.data).cpu().sum()\n",
    "        accuracy = 100. * correct / len(train_loader.dataset)\n",
    "        \n",
    "        \n",
    "        loss = torch.nn.functional.nll_loss(output, target)\n",
    "        loss.backward()\n",
    "        optimizer.step()\n",
    "        if batch_idx % 10000 == 0:\n",
    "            print('Train Epoch: {} [{}/{} ({:.0f}%)]\\tLoss: {:.6f}'.format(\n",
    "                epoch, batch_idx * len(data), len(train_loader.dataset),\n",
    "                100. * batch_idx / len(train_loader), loss.data, accuracy))"
   ]
  },
  {
   "cell_type": "code",
   "execution_count": 20,
   "metadata": {},
   "outputs": [],
   "source": [
    "def validate(loss_vector, accuracy_vector, model, validation_loader):\n",
    "    model.eval()\n",
    "    val_loss, correct = 0, 0\n",
    "    for data, target in validation_loader:\n",
    "        data, target = Variable(data, volatile=True), Variable(target)\n",
    "        output = model(data)\n",
    "        val_loss += torch.nn.functional.cross_entropy(output, target).data\n",
    "        pred = output.data.max(1)[1] # get the index of the max log-probability\n",
    "        correct += pred.eq(target.data).cpu().sum()\n",
    "\n",
    "    val_loss /= len(validation_loader)\n",
    "    loss_vector.append(val_loss)\n",
    "\n",
    "    accuracy = 100. * correct / len(validation_loader.dataset)\n",
    "    accuracy_vector.append(accuracy)\n",
    "\n",
    "    print('\\nValidation set: Average loss: {:.4f}, Accuracy: {}/{} ({:.0f}%)\\n'.format(\n",
    "        val_loss, correct, len(validation_loader.dataset), accuracy))"
   ]
  },
  {
   "cell_type": "code",
   "execution_count": 21,
   "metadata": {},
   "outputs": [],
   "source": [
    "from tqdm import tqdm_notebook"
   ]
  },
  {
   "cell_type": "code",
   "execution_count": 22,
   "metadata": {},
   "outputs": [
    {
     "name": "stderr",
     "output_type": "stream",
     "text": [
      "C:\\ProgramData\\Anaconda3\\lib\\site-packages\\ipykernel_launcher.py:20: UserWarning: Implicit dimension choice for log_softmax has been deprecated. Change the call to include dim=X as an argument.\n"
     ]
    },
    {
     "name": "stdout",
     "output_type": "stream",
     "text": [
      "Train Epoch: 1 [0/50000 (0%)]\tLoss: 2.302086\n",
      "Train Epoch: 1 [40000/50000 (80%)]\tLoss: 1.425048\n"
     ]
    },
    {
     "name": "stderr",
     "output_type": "stream",
     "text": [
      "C:\\ProgramData\\Anaconda3\\lib\\site-packages\\ipykernel_launcher.py:5: UserWarning: volatile was removed and now has no effect. Use `with torch.no_grad():` instead.\n",
      "  \"\"\"\n"
     ]
    },
    {
     "name": "stdout",
     "output_type": "stream",
     "text": [
      "\n",
      "Validation set: Average loss: 1.7626, Accuracy: 3809/10000 (38%)\n",
      "\n",
      "Train Epoch: 2 [0/50000 (0%)]\tLoss: 1.419232\n",
      "Train Epoch: 2 [40000/50000 (80%)]\tLoss: 1.204457\n",
      "\n",
      "Validation set: Average loss: 1.6226, Accuracy: 4286/10000 (43%)\n",
      "\n",
      "Train Epoch: 3 [0/50000 (0%)]\tLoss: 2.059214\n",
      "Train Epoch: 3 [40000/50000 (80%)]\tLoss: 0.854548\n",
      "\n",
      "Validation set: Average loss: 1.5502, Accuracy: 4566/10000 (46%)\n",
      "\n",
      "Train Epoch: 4 [0/50000 (0%)]\tLoss: 2.875194\n",
      "Train Epoch: 4 [40000/50000 (80%)]\tLoss: 1.507561\n",
      "\n",
      "Validation set: Average loss: 1.5014, Accuracy: 4726/10000 (47%)\n",
      "\n",
      "Train Epoch: 5 [0/50000 (0%)]\tLoss: 1.120632\n",
      "Train Epoch: 5 [40000/50000 (80%)]\tLoss: 1.233278\n",
      "\n",
      "Validation set: Average loss: 1.4634, Accuracy: 4880/10000 (49%)\n",
      "\n",
      "Train Epoch: 6 [0/50000 (0%)]\tLoss: 1.649727\n",
      "Train Epoch: 6 [40000/50000 (80%)]\tLoss: 1.532235\n",
      "\n",
      "Validation set: Average loss: 1.4303, Accuracy: 4991/10000 (50%)\n",
      "\n",
      "Train Epoch: 7 [0/50000 (0%)]\tLoss: 1.613760\n",
      "Train Epoch: 7 [40000/50000 (80%)]\tLoss: 1.952169\n",
      "\n",
      "Validation set: Average loss: 1.4032, Accuracy: 5055/10000 (51%)\n",
      "\n",
      "Train Epoch: 8 [0/50000 (0%)]\tLoss: 2.003659\n",
      "Train Epoch: 8 [40000/50000 (80%)]\tLoss: 1.662678\n",
      "\n",
      "Validation set: Average loss: 1.3866, Accuracy: 5106/10000 (51%)\n",
      "\n",
      "Train Epoch: 9 [0/50000 (0%)]\tLoss: 1.077797\n",
      "Train Epoch: 9 [40000/50000 (80%)]\tLoss: 1.957519\n",
      "\n",
      "Validation set: Average loss: 1.3652, Accuracy: 5207/10000 (52%)\n",
      "\n",
      "Train Epoch: 10 [0/50000 (0%)]\tLoss: 1.330160\n",
      "Train Epoch: 10 [40000/50000 (80%)]\tLoss: 1.362123\n",
      "\n",
      "Validation set: Average loss: 1.3613, Accuracy: 5189/10000 (52%)\n",
      "\n",
      "Train Epoch: 11 [0/50000 (0%)]\tLoss: 1.305982\n",
      "Train Epoch: 11 [40000/50000 (80%)]\tLoss: 2.843457\n",
      "\n",
      "Validation set: Average loss: 1.3446, Accuracy: 5265/10000 (53%)\n",
      "\n",
      "Train Epoch: 12 [0/50000 (0%)]\tLoss: 0.641693\n",
      "Train Epoch: 12 [40000/50000 (80%)]\tLoss: 1.141850\n",
      "\n",
      "Validation set: Average loss: 1.3233, Accuracy: 5340/10000 (53%)\n",
      "\n",
      "Train Epoch: 13 [0/50000 (0%)]\tLoss: 0.917352\n",
      "Train Epoch: 13 [40000/50000 (80%)]\tLoss: 3.061314\n",
      "\n",
      "Validation set: Average loss: 1.3220, Accuracy: 5307/10000 (53%)\n",
      "\n",
      "Train Epoch: 14 [0/50000 (0%)]\tLoss: 1.902815\n",
      "Train Epoch: 14 [40000/50000 (80%)]\tLoss: 0.585905\n",
      "\n",
      "Validation set: Average loss: 1.3122, Accuracy: 5337/10000 (53%)\n",
      "\n",
      "Train Epoch: 15 [0/50000 (0%)]\tLoss: 1.230142\n",
      "Train Epoch: 15 [40000/50000 (80%)]\tLoss: 1.101453\n",
      "\n",
      "Validation set: Average loss: 1.2990, Accuracy: 5401/10000 (54%)\n",
      "\n"
     ]
    }
   ],
   "source": [
    "hidden_nodes = 200\n",
    "layers = 2\n",
    "model = SecondNet(hidden_nodes, layers)\n",
    "optimizer = torch.optim.SGD(model.parameters(), lr=LEARNING_RATE)\n",
    "loss_vector = []\n",
    "acc_vector = []\n",
    "for epoch in range(1, EPOCHS + 1):\n",
    "    train(epoch, model, train_loader, optimizer)\n",
    "    validate(loss_vector, acc_vector, model, validation_loader)\n",
    "    if epoch == 15:\n",
    "        break"
   ]
  },
  {
   "cell_type": "code",
   "execution_count": 23,
   "metadata": {},
   "outputs": [
    {
     "data": {
      "image/png": "[encoded data removed]",
      "text/plain": [
       "<Figure size 432x288 with 1 Axes>"
      ]
     },
     "metadata": {
      "needs_background": "light"
     },
     "output_type": "display_data"
    }
   ],
   "source": [
    "epochs = [i for i in range(15)]\n",
    "plt.plot(epochs, loss_vector)\n",
    "plt.xlabel(\"Epochs\")\n",
    "plt.ylabel(\"Loss\")\n",
    "plt.show()"
   ]
  },
  {
   "cell_type": "code",
   "execution_count": 24,
   "metadata": {},
   "outputs": [
    {
     "name": "stdout",
     "output_type": "stream",
     "text": [
      "GroundTruth:    cat  ship  ship plane\n"
     ]
    },
    {
     "name": "stderr",
     "output_type": "stream",
     "text": [
      "C:\\ProgramData\\Anaconda3\\lib\\site-packages\\ipykernel_launcher.py:20: UserWarning: Implicit dimension choice for log_softmax has been deprecated. Change the call to include dim=X as an argument.\n"
     ]
    },
    {
     "data": {
      "image/png": "[encoded data removed]",
      "text/plain": [
       "<Figure size 432x288 with 1 Axes>"
      ]
     },
     "metadata": {
      "needs_background": "light"
     },
     "output_type": "display_data"
    }
   ],
   "source": [
    "dataiter = iter(validation_loader)\n",
    "images, labels = dataiter.next()\n",
    "\n",
    "# выведем наши предсказания\n",
    "imshow(torchvision.utils.make_grid(images))\n",
    "print('GroundTruth: ', ' '.join('%5s' % CLASSES[labels[j]] for j in range(4)))\n",
    "\n",
    "outputs=model(images)"
   ]
  },
  {
   "cell_type": "code",
   "execution_count": 25,
   "metadata": {},
   "outputs": [
    {
     "name": "stdout",
     "output_type": "stream",
     "text": [
      "Predicted:    cat truck plane  ship\n"
     ]
    }
   ],
   "source": [
    "_, predicted = torch.max(outputs, 1)\n",
    "\n",
    "print('Predicted: ', ' '.join('%5s' % CLASSES[predicted[j]]\n",
    "                              for j in range(4)))"
   ]
  },
  {
   "cell_type": "code",
   "execution_count": 26,
   "metadata": {},
   "outputs": [
    {
     "name": "stderr",
     "output_type": "stream",
     "text": [
      "C:\\ProgramData\\Anaconda3\\lib\\site-packages\\ipykernel_launcher.py:20: UserWarning: Implicit dimension choice for log_softmax has been deprecated. Change the call to include dim=X as an argument.\n"
     ]
    },
    {
     "name": "stdout",
     "output_type": "stream",
     "text": [
      "Accuracy of the network on the 10000 test images: 54 %\n"
     ]
    }
   ],
   "source": [
    "correct = 0\n",
    "total = 0\n",
    "with torch.no_grad():\n",
    "    for data in validation_loader:\n",
    "        images, labels = data\n",
    "        outputs = model(images)\n",
    "        _, predicted = torch.max(outputs.data, 1)\n",
    "        total += labels.size(0)\n",
    "        correct += (predicted == labels).sum().item()\n",
    "\n",
    "print('Accuracy of the network on the 10000 test images: %d %%' % (\n",
    "    100 * correct / total))"
   ]
  },
  {
   "cell_type": "code",
   "execution_count": 27,
   "metadata": {},
   "outputs": [
    {
     "name": "stderr",
     "output_type": "stream",
     "text": [
      "C:\\ProgramData\\Anaconda3\\lib\\site-packages\\ipykernel_launcher.py:20: UserWarning: Implicit dimension choice for log_softmax has been deprecated. Change the call to include dim=X as an argument.\n"
     ]
    },
    {
     "name": "stdout",
     "output_type": "stream",
     "text": [
      "Accuracy of plane : 57 %\n",
      "Accuracy of   car : 66 %\n",
      "Accuracy of  bird : 39 %\n",
      "Accuracy of   cat : 33 %\n",
      "Accuracy of  deer : 46 %\n",
      "Accuracy of   dog : 41 %\n",
      "Accuracy of  frog : 64 %\n",
      "Accuracy of horse : 61 %\n",
      "Accuracy of  ship : 70 %\n",
      "Accuracy of truck : 58 %\n"
     ]
    }
   ],
   "source": [
    "class_correct = list(0. for i in range(10))\n",
    "class_total = list(0. for i in range(10))\n",
    "with torch.no_grad():\n",
    "    for data in validation_loader:\n",
    "        images, labels = data\n",
    "        outputs = model(images)\n",
    "        _, predicted = torch.max(outputs, 1)\n",
    "        c = (predicted == labels).squeeze()\n",
    "        for i in range(4):\n",
    "            label = labels[i]\n",
    "            class_correct[label] += c[i].item()\n",
    "            class_total[label] += 1\n",
    "\n",
    "\n",
    "for i in range(10):\n",
    "    print('Accuracy of %5s : %2d %%' % (\n",
    "        CLASSES[i], 100 * class_correct[i] / class_total[i]))"
   ]
  }
 ],
 "metadata": {
  "kernelspec": {
   "display_name": "Python 3",
   "language": "python",
   "name": "python3"
  },
  "language_info": {
   "codemirror_mode": {
    "name": "ipython",
    "version": 3
   },
   "file_extension": ".py",
   "mimetype": "text/x-python",
   "name": "python",
   "nbconvert_exporter": "python",
   "pygments_lexer": "ipython3",
   "version": "3.7.4"
  }
 },
 "nbformat": 4,
 "nbformat_minor": 2
}
